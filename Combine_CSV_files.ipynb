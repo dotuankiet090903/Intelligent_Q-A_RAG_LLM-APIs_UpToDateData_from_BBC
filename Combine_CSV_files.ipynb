{
  "nbformat": 4,
  "nbformat_minor": 0,
  "metadata": {
    "colab": {
      "provenance": []
    },
    "kernelspec": {
      "name": "python3",
      "display_name": "Python 3"
    },
    "language_info": {
      "name": "python"
    }
  },
  "cells": [
    {
      "cell_type": "code",
      "execution_count": null,
      "metadata": {
        "colab": {
          "base_uri": "https://localhost:8080/"
        },
        "id": "j2Ne5LPel6FJ",
        "outputId": "7a4ba8db-ee19-4f7c-ba81-e642cd3584aa"
      },
      "outputs": [
        {
          "output_type": "stream",
          "name": "stdout",
          "text": [
            "Found 11 CSV files.\n",
            "Combined and sorted data saved to combined_sorted_all_final7.csv\n"
          ]
        }
      ],
      "source": [
        "import pandas as pd\n",
        "import glob\n",
        "import os\n",
        "\n",
        "# Path to the folder containing the CSV files\n",
        "folder_path = '/content/'  # Replace with your folder path\n",
        "\n",
        "# Combine all CSV files in the folder directly into a single DataFrame\n",
        "csv_files = glob.glob(os.path.join(folder_path, '*.csv'))\n",
        "print(f\"Found {len(csv_files)} CSV files.\")\n",
        "\n",
        "# Use generator expression to read and concatenate files in one step\n",
        "combined_df = pd.concat(\n",
        "    (pd.read_csv(file) for file in csv_files),\n",
        "    ignore_index=True\n",
        ")\n",
        "\n",
        "# Remove duplicates and sort the DataFrame\n",
        "unique_sorted_df = combined_df.drop_duplicates(subset=['link', 'title', 'content']).sort_values(by=['title'])\n",
        "\n",
        "# Save the result to a new CSV file\n",
        "output_file = 'combined_sorted_all_final7.csv'\n",
        "unique_sorted_df.to_csv(output_file, index=False)\n",
        "\n",
        "print(f\"Combined and sorted data saved to {output_file}\")\n"
      ]
    }
  ]
}